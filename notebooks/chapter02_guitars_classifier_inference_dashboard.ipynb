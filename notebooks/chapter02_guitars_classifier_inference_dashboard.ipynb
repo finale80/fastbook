{
 "cells": [
  {
   "cell_type": "code",
   "execution_count": 1,
   "id": "242b4090-7b39-4946-8e54-eab57ef4733c",
   "metadata": {},
   "outputs": [],
   "source": [
    "import ipywidgets as ipyw\n",
    "\n",
    "from PIL import Image\n",
    "\n",
    "import io\n",
    "import sys\n",
    "import tempfile\n",
    "\n",
    "import matplotlib as mpl\n",
    "import matplotlib.pyplot as plt\n",
    "%matplotlib inline"
   ]
  },
  {
   "cell_type": "code",
   "execution_count": 2,
   "id": "6125bbc8-a0a7-4a39-998f-6687dba48ec9",
   "metadata": {},
   "outputs": [],
   "source": [
    "import fastbook\n",
    "fastbook.setup_book()\n",
    "\n",
    "from fastbook import *"
   ]
  },
  {
   "cell_type": "code",
   "execution_count": 3,
   "id": "6b4b9f29-8114-47ab-9290-55de94bf836d",
   "metadata": {},
   "outputs": [
    {
     "data": {
      "application/vnd.jupyter.widget-view+json": {
       "model_id": "1638dff6ed2142e0a8df78365a8f9a5a",
       "version_major": 2,
       "version_minor": 0
      },
      "text/plain": [
       "VBox(children=(FileUpload(value={}, description='Upload'),))"
      ]
     },
     "metadata": {},
     "output_type": "display_data"
    }
   ],
   "source": [
    "learner = load_learner('./guitars_classifier.pkl')\n",
    "\n",
    "uploader = ipyw.FileUpload()\n",
    "\n",
    "box = ipyw.VBox([\n",
    "    uploader\n",
    "])\n",
    "\n",
    "def inference(im_bytes):\n",
    "    # create new image\n",
    "    image = ipyw.Image(\n",
    "        value=im_bytes,\n",
    "        width=128,\n",
    "        height=128,\n",
    "    )\n",
    "    \n",
    "    # inference\n",
    "    label, idx, probs = learner.predict(im_bytes)\n",
    "    label = ipyw.Label(f'{label} ({probs[idx].item()*100:.2f}%)')\n",
    "\n",
    "    # manually reset upload counter\n",
    "    uploader._counter = 0\n",
    "    \n",
    "    # refresh view\n",
    "    box.children = (uploader, image, label)    \n",
    "\n",
    "def on_image_upload(change):\n",
    "    new_value = change['new']\n",
    "    im_bytes = list(new_value.values())[0]\n",
    "    im_bytes = im_bytes['content']\n",
    "    inference(im_bytes)\n",
    "\n",
    "uploader.observe(on_image_upload, names='value')\n",
    "\n",
    "box"
   ]
  },
  {
   "cell_type": "code",
   "execution_count": null,
   "id": "7da75f70-7a32-460b-891a-03e51c6c30b8",
   "metadata": {},
   "outputs": [],
   "source": []
  }
 ],
 "metadata": {
  "kernelspec": {
   "display_name": "Python 3",
   "language": "python",
   "name": "python3"
  },
  "language_info": {
   "codemirror_mode": {
    "name": "ipython",
    "version": 3
   },
   "file_extension": ".py",
   "mimetype": "text/x-python",
   "name": "python",
   "nbconvert_exporter": "python",
   "pygments_lexer": "ipython3",
   "version": "3.8.11"
  }
 },
 "nbformat": 4,
 "nbformat_minor": 5
}
